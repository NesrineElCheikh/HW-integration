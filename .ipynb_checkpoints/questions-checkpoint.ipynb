{
 "cells": [
  {
   "cell_type": "markdown",
   "metadata": {},
   "source": [
    "# Integration exercises\n",
    "\n",
    "1. Fackler and Miranda exercise 5.1: Demand for a commodity is given by $q(p)=2p^{-0.5}$. The price of the good falls from 4 to 1. Compute the change in consumer surplus **analytically** using calculus and **numerically** using three different methods: a Gauss-Legendre rule, Monte-Carlo, and Quasi Monte Carlo.\n",
    "\n",
    "    1. Start out by plotting the demand function. In that plot, label the axis properly ($p$ on the $x$ axis), and add 2 horizontal lines for the equilibrium quantities at both prices $p=1,p=4$. This should help you visualize the consumer surplus, and it should guide you in the analytical solution. The simplest way to solve this first part would be to edit this `IJulia` notebook, just adding a code cell below (for the plot), and then one for the analytic solution. You can get and see how to use `IJulia` [by clicking on this link](https://github.com/JuliaLang/IJulia.jl).\n",
    "    1. To implement the integration rules, write 3 functions, one for each sub question, and detailed below. Let each function take as argument the number of integration points. Use $n=10,100,1000$ points. Each of those functions should produce the result (of course), as well as a plot where we can see integration nodes vs function value. We want to get an idea where each method places the points, and how this might influence the different results. Ideally, the result would tell us how far the corresponding method is away from your analytic solution. *Ideally*, your plot would show us all the results at once, so we can easily compare across methods.\n",
    "        1. Gauss-legendre rule. Note that you have to change the function domain to $[-1,1]$ first. This is achieved with the following transformation\n",
    "    $$ \\int_a^b f(x)\\,dx = \\frac{b-a}{2} \\int_{-1}^1 f\\left(\\frac{b-a}{2}x + \\frac{a+b}{2}\\right)dx $$\n",
    "        1. monte-carlo, again taking $n$ as an argument.\n",
    "        1. pseudo monte-carlo. Use a Sobol Sequence.\n",
    "\n",
    "\n",
    "2. Fackler and Miranda exercise 5.5: A government stabilizes the supply of a commodity at $S=2$, but allows the price to be determined on the market. Domestic and export demand for the commodity are given by $D = \\tilde{\\theta_1} p^{-1}, X = \\tilde{\\theta_2} p^{-0.5}$, and where $\\log \\tilde{\\theta_1}$ and $\\log \\tilde{\\theta_1}$ are both normally distributed with means 0, variances 0.02 and 0.01 respectively, and covariance 0.01.\n",
    "\n",
    "    1. compute the expected price $E[p]$ and expected variance $V[p]$ using a kronecker product rule with gauss-hermite grids (10) in each dimension of the shock.\n",
    "    1. perform the same computation with a monte carlo integration scheme."
   ]
  },
  {
   "cell_type": "code",
   "execution_count": 1,
   "metadata": {
    "collapsed": true
   },
   "outputs": [],
   "source": [
    "using Plots"
   ]
  },
  {
   "cell_type": "code",
   "execution_count": 2,
   "metadata": {
    "collapsed": false
   },
   "outputs": [
    {
     "name": "stderr",
     "output_type": "stream",
     "text": [
      "\u001b[1m\u001b[31mWARNING: No working GUI backend found for matplotlib.\u001b[0m\n"
     ]
    },
    {
     "data": {
      "text/plain": [
       "Plots.PyPlotBackend()"
      ]
     },
     "execution_count": 2,
     "metadata": {},
     "output_type": "execute_result"
    }
   ],
   "source": [
    "pyplot()"
   ]
  },
  {
   "cell_type": "code",
   "execution_count": 3,
   "metadata": {
    "collapsed": false
   },
   "outputs": [
    {
     "data": {
      "text/plain": [
       "f (generic function with 1 method)"
      ]
     },
     "execution_count": 3,
     "metadata": {},
     "output_type": "execute_result"
    }
   ],
   "source": [
    "f(x) = 2*x^(-0.5)"
   ]
  },
  {
   "cell_type": "code",
   "execution_count": 4,
   "metadata": {
    "collapsed": false
   },
   "outputs": [
    {
     "data": {
      "text/plain": [
       "g (generic function with 1 method)"
      ]
     },
     "execution_count": 4,
     "metadata": {},
     "output_type": "execute_result"
    }
   ],
   "source": [
    "g(x)=1\n"
   ]
  },
  {
   "cell_type": "code",
   "execution_count": 5,
   "metadata": {
    "collapsed": false
   },
   "outputs": [
    {
     "data": {
      "text/plain": [
       "l (generic function with 1 method)"
      ]
     },
     "execution_count": 5,
     "metadata": {},
     "output_type": "execute_result"
    }
   ],
   "source": [
    "l(x)=4"
   ]
  },
  {
   "cell_type": "code",
   "execution_count": 6,
   "metadata": {
    "collapsed": false
   },
   "outputs": [
    {
     "data": {
      "text/html": [
       "<img src=\"data:image/png;base64,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\" />"
      ]
     },
     "execution_count": 6,
     "metadata": {},
     "output_type": "execute_result"
    }
   ],
   "source": [
    "plot([f,g,l],0,40)"
   ]
  },
  {
   "cell_type": "code",
   "execution_count": 7,
   "metadata": {
    "collapsed": false
   },
   "outputs": [
    {
     "name": "stderr",
     "output_type": "stream",
     "text": [
      "\u001b[1m\u001b[34mINFO: Nothing to be done\n",
      "\u001b[0m\u001b[1m\u001b[34mINFO: METADATA is out-of-date — you may not have the latest version of LaTeXStrings\n",
      "\u001b[0m\u001b[1m\u001b[34mINFO: Use `Pkg.update()` to get the latest versions of your packages\n",
      "\u001b[0m"
     ]
    }
   ],
   "source": [
    "Pkg.add(\"LaTeXStrings\")"
   ]
  },
  {
   "cell_type": "code",
   "execution_count": 8,
   "metadata": {
    "collapsed": true
   },
   "outputs": [],
   "source": [
    "using LaTeXStrings"
   ]
  },
  {
   "cell_type": "code",
   "execution_count": 9,
   "metadata": {
    "collapsed": false
   },
   "outputs": [
    {
     "data": {
      "text/latex": [
       "$\\int_{1}^{4} \\frac{2}{\\sqrt{x}} dx = 2[2\\sqrt{x}]_1^4$"
      ],
      "text/plain": [
       "L\"$\\int_{1}^{4} \\frac{2}{\\sqrt{x}} dx = 2[2\\sqrt{x}]_1^4$\""
      ]
     },
     "execution_count": 9,
     "metadata": {},
     "output_type": "execute_result"
    }
   ],
   "source": [
    "L\"\\int_{1}^{4} \\frac{2}{\\sqrt{x}} dx = 2[2\\sqrt{x}]_1^4\""
   ]
  },
  {
   "cell_type": "code",
   "execution_count": 10,
   "metadata": {
    "collapsed": false
   },
   "outputs": [
    {
     "data": {
      "text/latex": [
       "$\\int_{1}^{4} \\frac{2}{\\sqrt{x}} dx = 2(2\\sqrt{4}-2{\\sqrt{1}}) = 4$"
      ],
      "text/plain": [
       "L\"$\\int_{1}^{4} \\frac{2}{\\sqrt{x}} dx = 2(2\\sqrt{4}-2{\\sqrt{1}}) = 4$\""
      ]
     },
     "execution_count": 10,
     "metadata": {},
     "output_type": "execute_result"
    }
   ],
   "source": [
    "L\"\\int_{1}^{4} \\frac{2}{\\sqrt{x}} dx = 2(2\\sqrt{4}-2{\\sqrt{1}}) = 4\""
   ]
  },
  {
   "cell_type": "code",
   "execution_count": null,
   "metadata": {
    "collapsed": true
   },
   "outputs": [],
   "source": []
  }
 ],
 "metadata": {
  "kernelspec": {
   "display_name": "Julia 0.5.0",
   "language": "julia",
   "name": "julia-0.5"
  },
  "language_info": {
   "file_extension": ".jl",
   "mimetype": "application/julia",
   "name": "julia",
   "version": "0.5.0"
  }
 },
 "nbformat": 4,
 "nbformat_minor": 0
}
